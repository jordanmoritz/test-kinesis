{
 "cells": [
  {
   "cell_type": "code",
   "execution_count": 129,
   "metadata": {},
   "outputs": [],
   "source": [
    "import boto3\n",
    "import base64\n",
    "import random\n",
    "import string\n",
    "import json"
   ]
  },
  {
   "cell_type": "code",
   "execution_count": 10,
   "metadata": {},
   "outputs": [],
   "source": [
    "kinesis_client = boto3.client('kinesis', region_name='us-west-2')"
   ]
  },
  {
   "cell_type": "code",
   "execution_count": 8,
   "metadata": {},
   "outputs": [
    {
     "data": {
      "text/plain": [
       "{'StreamNames': ['test-data-stream'],\n",
       " 'HasMoreStreams': False,\n",
       " 'ResponseMetadata': {'RequestId': 'ded5370c-af24-79a7-87fe-011765893d7a',\n",
       "  'HTTPStatusCode': 200,\n",
       "  'HTTPHeaders': {'x-amzn-requestid': 'ded5370c-af24-79a7-87fe-011765893d7a',\n",
       "   'x-amz-id-2': 'WkuEeN/m0r65n2piIinEEQVMAS/3zYmEIY36OWEGL6KxMP5MYo+njjSdb2EsIcWv6fYsRULVnf6QsD0dg8fGwJBBtAbxmlp5',\n",
       "   'date': 'Fri, 28 May 2021 18:18:03 GMT',\n",
       "   'content-type': 'application/x-amz-json-1.1',\n",
       "   'content-length': '59'},\n",
       "  'RetryAttempts': 0}}"
      ]
     },
     "execution_count": 8,
     "metadata": {},
     "output_type": "execute_result"
    }
   ],
   "source": [
    "kinesis_client.list_streams()"
   ]
  },
  {
   "cell_type": "code",
   "execution_count": 56,
   "metadata": {},
   "outputs": [],
   "source": [
    "def kinesis_put_records(stream_name, data):\n",
    "    response = kinesis_client.put_record(\n",
    "        StreamName=stream_name,\n",
    "        Data=data,\n",
    "        PartitionKey='test_partition'\n",
    "    )\n",
    "\n",
    "#     print(response)\n",
    "    \n",
    "    return"
   ]
  },
  {
   "cell_type": "code",
   "execution_count": 121,
   "metadata": {},
   "outputs": [],
   "source": [
    "stream_name = 'test-data-stream'\n",
    "chars = string.ascii_lowercase\n",
    "\n",
    "for record in range(400):\n",
    "    data = ''.join(random.choice(chars) for i in range(20))\n",
    "    kinesis_put_records(stream_name, data)"
   ]
  },
  {
   "cell_type": "code",
   "execution_count": 132,
   "metadata": {},
   "outputs": [
    {
     "name": "stdout",
     "output_type": "stream",
     "text": [
      "[{\"id\": 1234, \"value\": \"kjhasdf\"}]\n"
     ]
    }
   ],
   "source": [
    "data = [{\n",
    "    \"id\": 1234,\n",
    "    \"value\": \"kjhasdf\"\n",
    "}]\n",
    "\n",
    "print((json.dumps(data)))"
   ]
  },
  {
   "cell_type": "code",
   "execution_count": 137,
   "metadata": {},
   "outputs": [],
   "source": [
    "stream_name = 'test-data-stream'\n",
    "chars = string.ascii_lowercase\n",
    "\n",
    "for record in range(200):\n",
    "    id = random.randint(0, 100)\n",
    "    value = ''.join(random.choice(chars) for i in range(100))\n",
    "    data = [{\n",
    "        \"id\": id,\n",
    "        \"value\": value\n",
    "    }]\n",
    "#     print(data)\n",
    "    kinesis_put_records(stream_name, json.dumps(data))"
   ]
  },
  {
   "cell_type": "code",
   "execution_count": 33,
   "metadata": {},
   "outputs": [],
   "source": [
    "stream_name = 'test-data-stream'\n",
    "\n",
    "\n",
    "response = kinesis_client.put_record(\n",
    "    StreamName=stream_name,\n",
    "    Data=b'Hello world!',\n",
    "    PartitionKey='test_partition'\n",
    ")"
   ]
  },
  {
   "cell_type": "code",
   "execution_count": 34,
   "metadata": {},
   "outputs": [
    {
     "data": {
      "text/plain": [
       "{'ShardId': 'shardId-000000000000',\n",
       " 'SequenceNumber': '49618685527141920783542732914652221697383604380007137282',\n",
       " 'ResponseMetadata': {'RequestId': 'db1fa6e2-70da-313f-8234-9e09e33e48e3',\n",
       "  'HTTPStatusCode': 200,\n",
       "  'HTTPHeaders': {'x-amzn-requestid': 'db1fa6e2-70da-313f-8234-9e09e33e48e3',\n",
       "   'x-amz-id-2': 'mES76ioEuYVXqi5FlkCegMeJuLoDWsCFAFIYbuezbm90GFtuGEQpXeQbik+fTfFZgkrpE5Fmk2pKSg59ywU0cNRYjPvrQuQF',\n",
       "   'date': 'Fri, 28 May 2021 18:30:03 GMT',\n",
       "   'content-type': 'application/x-amz-json-1.1',\n",
       "   'content-length': '110'},\n",
       "  'RetryAttempts': 0}}"
      ]
     },
     "execution_count": 34,
     "metadata": {},
     "output_type": "execute_result"
    }
   ],
   "source": [
    "response"
   ]
  },
  {
   "cell_type": "code",
   "execution_count": 113,
   "metadata": {},
   "outputs": [
    {
     "data": {
      "text/plain": [
       "{'StreamDescription': {'StreamName': 'test-data-stream',\n",
       "  'StreamARN': 'arn:aws:kinesis:us-west-2:380713760281:stream/test-data-stream',\n",
       "  'StreamStatus': 'ACTIVE',\n",
       "  'Shards': [{'ShardId': 'shardId-000000000000',\n",
       "    'HashKeyRange': {'StartingHashKey': '0',\n",
       "     'EndingHashKey': '340282366920938463463374607431768211455'},\n",
       "    'SequenceNumberRange': {'StartingSequenceNumber': '49618685527141920783542732914561552260912203932853338114'}}],\n",
       "  'HasMoreShards': False,\n",
       "  'RetentionPeriodHours': 24,\n",
       "  'StreamCreationTimestamp': datetime.datetime(2021, 5, 28, 10, 16, 33, tzinfo=tzlocal()),\n",
       "  'EnhancedMonitoring': [{'ShardLevelMetrics': []}],\n",
       "  'EncryptionType': 'NONE'},\n",
       " 'ResponseMetadata': {'RequestId': 'dab1ceba-da5d-460f-839a-8dbd119c5ff4',\n",
       "  'HTTPStatusCode': 200,\n",
       "  'HTTPHeaders': {'x-amzn-requestid': 'dab1ceba-da5d-460f-839a-8dbd119c5ff4',\n",
       "   'x-amz-id-2': 'flln+j9NZX2zVT/FyW9biYNa9B2e51lxLhjw6Kn26FGRStasJbTXvVqgd45eQ+ERqYwSV+CYM3kXulRwByoEPpy/m5ME55k2',\n",
       "   'date': 'Fri, 28 May 2021 19:13:11 GMT',\n",
       "   'content-type': 'application/x-amz-json-1.1',\n",
       "   'content-length': '567'},\n",
       "  'RetryAttempts': 0}}"
      ]
     },
     "execution_count": 113,
     "metadata": {},
     "output_type": "execute_result"
    }
   ],
   "source": [
    "kinesis_client.describe_stream(StreamName=stream_name)\n",
    "# kinesis_client.describe_stream_summary(StreamName=stream_name)\n",
    "# kinesis_client.describe_limits()"
   ]
  },
  {
   "cell_type": "code",
   "execution_count": 111,
   "metadata": {},
   "outputs": [
    {
     "name": "stdout",
     "output_type": "stream",
     "text": [
      "{'Shards': [{'ShardId': 'shardId-000000000000', 'HashKeyRange': {'StartingHashKey': '0', 'EndingHashKey': '340282366920938463463374607431768211455'}, 'SequenceNumberRange': {'StartingSequenceNumber': '49618685527141920783542732914561552260912203932853338114'}}], 'ResponseMetadata': {'RequestId': 'f7780cd8-b340-193d-ae53-4ebbf53745a2', 'HTTPStatusCode': 200, 'HTTPHeaders': {'x-amzn-requestid': 'f7780cd8-b340-193d-ae53-4ebbf53745a2', 'x-amz-id-2': 'zSV8ujTC3HZMWF4qRgkEHIsVZ0ht6/1T/MmsdopdCjeMLgmkhWvZ74HfS+WXiktcTbu6bO4X6NK/7wGGJ/tQAU8ekBlYR2txpJZ/a/udmvc=', 'date': 'Fri, 28 May 2021 19:10:27 GMT', 'content-type': 'application/x-amz-json-1.1', 'content-length': '252'}, 'RetryAttempts': 0}}\n"
     ]
    },
    {
     "data": {
      "text/plain": [
       "'shardId-000000000000'"
      ]
     },
     "execution_count": 111,
     "metadata": {},
     "output_type": "execute_result"
    }
   ],
   "source": [
    "print(kinesis_client.list_shards(StreamName=stream_name))\n",
    "shard_id = kinesis_client.list_shards(StreamName=stream_name)['Shards'][0]['ShardId']\n",
    "shard_id"
   ]
  },
  {
   "cell_type": "code",
   "execution_count": 114,
   "metadata": {},
   "outputs": [
    {
     "data": {
      "text/plain": [
       "{'ShardIterator': 'AAAAAAAAAAHWmZPaihsPFvJfEhiFqLuEtttF12fJTJ+nR4Ssr7KG4PtuTrHaBC6JuZQxbZs/fgKmlKif6SqVODQbJhvl29J1LU7WxRhy9YtbyF1xpmu8xxfrUmvjofMeW9YA3CigQcm9Z5Ej4vTfV6B2bf/JXUuRgtXKXYUkjiBQBsVp4wfnQ3invjzzetgBPTTaYB4sMQAj+aqiI5t4/5innIYqEdIAtZGawHnsxC1nLPCn5B55Nw==',\n",
       " 'ResponseMetadata': {'RequestId': 'e345cd52-1c81-0df9-ba6e-8e6e50c7ea27',\n",
       "  'HTTPStatusCode': 200,\n",
       "  'HTTPHeaders': {'x-amzn-requestid': 'e345cd52-1c81-0df9-ba6e-8e6e50c7ea27',\n",
       "   'x-amz-id-2': '36MuD+SDRkL+iHkK1jfcglUDMj5ga+K6GIZzGywVGGX8SAjzfRrpNWLsUAO+1YtE7KZxZUsk/Hj3NeKPL0kFfZwBySKezFNg',\n",
       "   'date': 'Fri, 28 May 2021 19:14:04 GMT',\n",
       "   'content-type': 'application/x-amz-json-1.1',\n",
       "   'content-length': '268'},\n",
       "  'RetryAttempts': 0}}"
      ]
     },
     "execution_count": 114,
     "metadata": {},
     "output_type": "execute_result"
    }
   ],
   "source": [
    "kinesis_client.get_shard_iterator(\n",
    "    StreamName=stream_name,\n",
    "    ShardId=shard_id,\n",
    "    ShardIteratorType='TRIM_HORIZON',\n",
    ")"
   ]
  },
  {
   "cell_type": "code",
   "execution_count": 150,
   "metadata": {},
   "outputs": [
    {
     "data": {
      "text/plain": [
       "'AAAAAAAAAAEDDc2CrXWg6ZP+vk8w0Fon+QX1HESrI0G/O4bQ8fDryISNACbOuBkD8n8hDX8Q7dmPIXceh9k3+M50RbNs2UmOJGfwqw3umlvRQTFKr3LDnkzQVVpVv1yEQ2QjibKHjHuQQX+goS1WuWBk3I35pki09UMF4+//6bMONuTvAle0WEEL8dykCApxfypGUC/80FRR0R/aiXhGMJ9LNJvdyYO4eeJj5VXcDToqDLWWPhn+zw=='"
      ]
     },
     "execution_count": 150,
     "metadata": {},
     "output_type": "execute_result"
    }
   ],
   "source": [
    "shard_iterator_response = kinesis_client.get_shard_iterator(\n",
    "    StreamName=stream_name,\n",
    "    ShardId=shard_id,\n",
    "#     ShardIteratorType='TRIM_HORIZON',\n",
    "#     ShardIteratorType='LATEST',\n",
    "    ShardIteratorType='AT_SEQUENCE_NUMBER',\n",
    "    StartingSequenceNumber='49618685527141920783542732914991929852695358265211486210'\n",
    ")\n",
    "\n",
    "shard_iterator = shard_iterator_response['ShardIterator']\n",
    "shard_iterator"
   ]
  },
  {
   "cell_type": "code",
   "execution_count": 152,
   "metadata": {},
   "outputs": [
    {
     "data": {
      "text/plain": [
       "{'Records': [{'SequenceNumber': '49618685527141920783542732914991929852695358265211486210',\n",
       "   'ApproximateArrivalTimestamp': datetime.datetime(2021, 5, 28, 11, 40, 30, 938000, tzinfo=tzlocal()),\n",
       "   'Data': b'esrfiujfuy',\n",
       "   'PartitionKey': 'test_partition'},\n",
       "  {'SequenceNumber': '49618685527141920783542732914993138778514972894386192386',\n",
       "   'ApproximateArrivalTimestamp': datetime.datetime(2021, 5, 28, 11, 40, 30, 963000, tzinfo=tzlocal()),\n",
       "   'Data': b'utkmyvpvyw',\n",
       "   'PartitionKey': 'test_partition'},\n",
       "  {'SequenceNumber': '49618685527141920783542732914994347704334587523560898562',\n",
       "   'ApproximateArrivalTimestamp': datetime.datetime(2021, 5, 28, 11, 40, 30, 988000, tzinfo=tzlocal()),\n",
       "   'Data': b'urwtyujaji',\n",
       "   'PartitionKey': 'test_partition'},\n",
       "  {'SequenceNumber': '49618685527141920783542732914995556630154202152735604738',\n",
       "   'ApproximateArrivalTimestamp': datetime.datetime(2021, 5, 28, 11, 40, 31, 19000, tzinfo=tzlocal()),\n",
       "   'Data': b'idingbohbo',\n",
       "   'PartitionKey': 'test_partition'},\n",
       "  {'SequenceNumber': '49618685527141920783542732914996765555973816781910310914',\n",
       "   'ApproximateArrivalTimestamp': datetime.datetime(2021, 5, 28, 11, 40, 31, 43000, tzinfo=tzlocal()),\n",
       "   'Data': b'bvkywnurar',\n",
       "   'PartitionKey': 'test_partition'},\n",
       "  {'SequenceNumber': '49618685527141920783542732914997974481793431411085017090',\n",
       "   'ApproximateArrivalTimestamp': datetime.datetime(2021, 5, 28, 11, 40, 31, 73000, tzinfo=tzlocal()),\n",
       "   'Data': b'vdjrlqsnml',\n",
       "   'PartitionKey': 'test_partition'},\n",
       "  {'SequenceNumber': '49618685527141920783542732914999183407613046040259723266',\n",
       "   'ApproximateArrivalTimestamp': datetime.datetime(2021, 5, 28, 11, 40, 31, 103000, tzinfo=tzlocal()),\n",
       "   'Data': b'acinsqwnbt',\n",
       "   'PartitionKey': 'test_partition'},\n",
       "  {'SequenceNumber': '49618685527141920783542732915000392333432660669434429442',\n",
       "   'ApproximateArrivalTimestamp': datetime.datetime(2021, 5, 28, 11, 40, 31, 135000, tzinfo=tzlocal()),\n",
       "   'Data': b'nmuwdhvwij',\n",
       "   'PartitionKey': 'test_partition'},\n",
       "  {'SequenceNumber': '49618685527141920783542732915001601259252275298609135618',\n",
       "   'ApproximateArrivalTimestamp': datetime.datetime(2021, 5, 28, 11, 40, 31, 163000, tzinfo=tzlocal()),\n",
       "   'Data': b'mdzvbiehsb',\n",
       "   'PartitionKey': 'test_partition'},\n",
       "  {'SequenceNumber': '49618685527141920783542732915002810185071889927783841794',\n",
       "   'ApproximateArrivalTimestamp': datetime.datetime(2021, 5, 28, 11, 40, 31, 196000, tzinfo=tzlocal()),\n",
       "   'Data': b'ykfybhfdwc',\n",
       "   'PartitionKey': 'test_partition'}],\n",
       " 'NextShardIterator': 'AAAAAAAAAAHRXA5ejmr2mB0fGGaggow2aku8JH7rXi51gujX3G+AE8eFaI6kJ8oHohTJsaFMab0QJvBmCou4oTdhDa1cRsKCrgHjvIRp/ArXqDOa1XPfsz/3s92ojqYtiWOjicqW+9rr5AjV/jpggK0YOdEK7wlWt/asWVamSgUNk5bmwTQzL9scr4T0hxQSWPGeEmYDWpkDxSRKEIvdwGS90pZd+GkybPypWFAOcHw0dKLYMjOJ6g==',\n",
       " 'MillisBehindLatest': 5197000,\n",
       " 'ResponseMetadata': {'RequestId': 'ee368aac-a277-95d6-b71d-c507f94dd25d',\n",
       "  'HTTPStatusCode': 200,\n",
       "  'HTTPHeaders': {'x-amzn-requestid': 'ee368aac-a277-95d6-b71d-c507f94dd25d',\n",
       "   'x-amz-id-2': 'VafD9wKh8v1Pz5XlHGLBjdei6tp7XBBpzbyIcxXK3JnEQNbCjPRUB8dfjVTwwQCWdOBYjTZoeTx/8oAEaZiKk2+VU1oQqIcT',\n",
       "   'date': 'Fri, 28 May 2021 20:07:07 GMT',\n",
       "   'content-type': 'application/x-amz-json-1.1',\n",
       "   'content-length': '2143'},\n",
       "  'RetryAttempts': 0}}"
      ]
     },
     "execution_count": 152,
     "metadata": {},
     "output_type": "execute_result"
    }
   ],
   "source": [
    "records_response = client.get_records(\n",
    "    ShardIterator=shard_iterator,\n",
    "    Limit=10\n",
    ")\n",
    "\n",
    "records_response"
   ]
  }
 ],
 "metadata": {
  "kernelspec": {
   "display_name": "Python 3",
   "language": "python",
   "name": "python3"
  },
  "language_info": {
   "codemirror_mode": {
    "name": "ipython",
    "version": 3
   },
   "file_extension": ".py",
   "mimetype": "text/x-python",
   "name": "python",
   "nbconvert_exporter": "python",
   "pygments_lexer": "ipython3",
   "version": "3.7.6"
  }
 },
 "nbformat": 4,
 "nbformat_minor": 4
}
